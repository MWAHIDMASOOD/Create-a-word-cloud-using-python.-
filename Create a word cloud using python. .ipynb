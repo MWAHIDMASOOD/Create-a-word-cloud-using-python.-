{
 "cells": [
  {
   "cell_type": "code",
   "execution_count": null,
   "id": "84479ed1",
   "metadata": {},
   "outputs": [],
   "source": [
    "# Python program to generate WordCloud\n",
    "\n",
    "# importing all necessary modules\n",
    "from wordcloud import WordCloud, STOPWORDS\n",
    "import matplotlib.pyplot as plt\n",
    "import pandas as pd\n",
    "\n",
    "# Reads 'Youtube04-Eminem.csv' file\n",
    "df = pd.read_csv(r\"Youtube04-Eminem.csv\", encoding =\"latin-1\")\n",
    "\n",
    "comment_words = ''\n",
    "stopwords = set(STOPWORDS)\n",
    "\n",
    "# iterate through the csv file\n",
    "for val in df.CONTENT:\n",
    "\t\n",
    "\t# typecaste each val to string\n",
    "\tval = str(val)\n",
    "\n",
    "\t# split the value\n",
    "\ttokens = val.split()\n",
    "\t\n",
    "\t# Converts each token into lowercase\n",
    "\tfor i in range(len(tokens)):\n",
    "\t\ttokens[i] = tokens[i].lower()\n",
    "\t\n",
    "\tcomment_words += \" \".join(tokens)+\" \"\n",
    "\n",
    "wordcloud = WordCloud(width = 800, height = 800,\n",
    "\t\t\t\tbackground_color ='white',\n",
    "\t\t\t\tstopwords = stopwords,\n",
    "\t\t\t\tmin_font_size = 10).generate(comment_words)\n",
    "\n",
    "# plot the WordCloud image\t\t\t\t\t\n",
    "plt.figure(figsize = (8, 8), facecolor = None)\n",
    "plt.imshow(wordcloud)\n",
    "plt.axis(\"off\")\n",
    "plt.tight_layout(pad = 0)\n",
    "\n",
    "plt.show()\n"
   ]
  }
 ],
 "metadata": {
  "kernelspec": {
   "display_name": "Python 3 (ipykernel)",
   "language": "python",
   "name": "python3"
  },
  "language_info": {
   "codemirror_mode": {
    "name": "ipython",
    "version": 3
   },
   "file_extension": ".py",
   "mimetype": "text/x-python",
   "name": "python",
   "nbconvert_exporter": "python",
   "pygments_lexer": "ipython3",
   "version": "3.9.12"
  }
 },
 "nbformat": 4,
 "nbformat_minor": 5
}
